{
 "cells": [
  {
   "cell_type": "code",
   "execution_count": null,
   "metadata": {},
   "outputs": [],
   "source": [
    "# Run this on colab\n",
    "import requests\n",
    "exec(requests.get(\"https://raw.githubusercontent.com/Something-Else-Studio/arcticdb-notebooks/main/styling.py\").text)"
   ]
  },
  {
   "cell_type": "code",
   "execution_count": 8,
   "metadata": {},
   "outputs": [
    {
     "name": "stdout",
     "output_type": "stream",
     "text": [
      "The autoreload extension is already loaded. To reload it, use:\n",
      "  %reload_ext autoreload\n"
     ]
    }
   ],
   "source": [
    "# Run this locally\n",
    "\n",
    "%load_ext autoreload\n",
    "%autoreload 2\n",
    "import sys\n",
    "import os\n",
    "sys.path.append(os.path.dirname(os.getcwd()))\n",
    "\n",
    "from styling import style_table, export_table_html\n"
   ]
  },
  {
   "cell_type": "code",
   "execution_count": 4,
   "metadata": {},
   "outputs": [
    {
     "name": "stdout",
     "output_type": "stream",
     "text": [
      "Note: you may need to restart the kernel to use updated packages.\n"
     ]
    }
   ],
   "source": [
    "%pip install -q arcticdb pandas numpy statsmodels seaborn matplotlib\n",
    "\n",
    "import pandas as pd\n",
    "import arcticdb as adb\n",
    "\n"
   ]
  },
  {
   "cell_type": "code",
   "execution_count": 5,
   "metadata": {},
   "outputs": [],
   "source": [
    "df = pd.read_csv('https://raw.githubusercontent.com/Something-Else-Studio/arcticdb-notebooks/main/pythagorean-won-loss-formula/sports.csv')"
   ]
  },
  {
   "cell_type": "code",
   "execution_count": 6,
   "metadata": {},
   "outputs": [],
   "source": [
    "df = df.drop(columns=\"Unnamed: 0\")\n",
    "df = df.rename(columns={'FREQ_RUNS_S': 'PS',\n",
    "                        'FREQ_RUNS_A': 'PA' })\n",
    "\n",
    "df = df.sort_values(['LEAGUE','YEAR_ID','TEAM_ID'])"
   ]
  },
  {
   "cell_type": "code",
   "execution_count": 9,
   "metadata": {},
   "outputs": [
    {
     "name": "stdout",
     "output_type": "stream",
     "text": [
      "Exported: basic_data.html\n"
     ]
    },
    {
     "data": {
      "text/html": [
       "<style type=\"text/css\">\n",
       "#T_bfbdc th {\n",
       "  background-color: #141C52;\n",
       "  color: #F9F9F9;\n",
       "  font-weight: bold;\n",
       "  text-align: left;\n",
       "  padding: 10px;\n",
       "}\n",
       "#T_bfbdc td {\n",
       "  background-color: #75D0E8;\n",
       "  color: #141C52;\n",
       "  padding: 8px;\n",
       "}\n",
       "#T_bfbdc tr:hover td {\n",
       "  background-color: #783ABB;\n",
       "  color: #F9F9F9;\n",
       "}\n",
       "</style>\n",
       "<table id=\"T_bfbdc\">\n",
       "  <thead>\n",
       "    <tr>\n",
       "      <th id=\"T_bfbdc_level0_col0\" class=\"col_heading level0 col0\" >YEAR_ID</th>\n",
       "      <th id=\"T_bfbdc_level0_col1\" class=\"col_heading level0 col1\" >TEAM_ID</th>\n",
       "      <th id=\"T_bfbdc_level0_col2\" class=\"col_heading level0 col2\" >OPP_TEAM_ID</th>\n",
       "      <th id=\"T_bfbdc_level0_col3\" class=\"col_heading level0 col3\" >PS</th>\n",
       "      <th id=\"T_bfbdc_level0_col4\" class=\"col_heading level0 col4\" >PA</th>\n",
       "      <th id=\"T_bfbdc_level0_col5\" class=\"col_heading level0 col5\" >date</th>\n",
       "      <th id=\"T_bfbdc_level0_col6\" class=\"col_heading level0 col6\" >home</th>\n",
       "      <th id=\"T_bfbdc_level0_col7\" class=\"col_heading level0 col7\" >wi</th>\n",
       "      <th id=\"T_bfbdc_level0_col8\" class=\"col_heading level0 col8\" >LEAGUE</th>\n",
       "    </tr>\n",
       "  </thead>\n",
       "  <tbody>\n",
       "    <tr>\n",
       "      <td id=\"T_bfbdc_row0_col0\" class=\"data row0 col0\" >1897</td>\n",
       "      <td id=\"T_bfbdc_row0_col1\" class=\"data row0 col1\" >Carlton</td>\n",
       "      <td id=\"T_bfbdc_row0_col2\" class=\"data row0 col2\" >Fitzroy</td>\n",
       "      <td id=\"T_bfbdc_row0_col3\" class=\"data row0 col3\" >16</td>\n",
       "      <td id=\"T_bfbdc_row0_col4\" class=\"data row0 col4\" >49</td>\n",
       "      <td id=\"T_bfbdc_row0_col5\" class=\"data row0 col5\" >1897-05-08</td>\n",
       "      <td id=\"T_bfbdc_row0_col6\" class=\"data row0 col6\" >0</td>\n",
       "      <td id=\"T_bfbdc_row0_col7\" class=\"data row0 col7\" >0.000000</td>\n",
       "      <td id=\"T_bfbdc_row0_col8\" class=\"data row0 col8\" >AFL</td>\n",
       "    </tr>\n",
       "    <tr>\n",
       "      <td id=\"T_bfbdc_row1_col0\" class=\"data row1 col0\" >1897</td>\n",
       "      <td id=\"T_bfbdc_row1_col1\" class=\"data row1 col1\" >Carlton</td>\n",
       "      <td id=\"T_bfbdc_row1_col2\" class=\"data row1 col2\" >South Melbourne</td>\n",
       "      <td id=\"T_bfbdc_row1_col3\" class=\"data row1 col3\" >36</td>\n",
       "      <td id=\"T_bfbdc_row1_col4\" class=\"data row1 col4\" >40</td>\n",
       "      <td id=\"T_bfbdc_row1_col5\" class=\"data row1 col5\" >1897-05-15</td>\n",
       "      <td id=\"T_bfbdc_row1_col6\" class=\"data row1 col6\" >0</td>\n",
       "      <td id=\"T_bfbdc_row1_col7\" class=\"data row1 col7\" >0.000000</td>\n",
       "      <td id=\"T_bfbdc_row1_col8\" class=\"data row1 col8\" >AFL</td>\n",
       "    </tr>\n",
       "    <tr>\n",
       "      <td id=\"T_bfbdc_row2_col0\" class=\"data row2 col0\" >1897</td>\n",
       "      <td id=\"T_bfbdc_row2_col1\" class=\"data row2 col1\" >Carlton</td>\n",
       "      <td id=\"T_bfbdc_row2_col2\" class=\"data row2 col2\" >Essendon</td>\n",
       "      <td id=\"T_bfbdc_row2_col3\" class=\"data row2 col3\" >41</td>\n",
       "      <td id=\"T_bfbdc_row2_col4\" class=\"data row2 col4\" >78</td>\n",
       "      <td id=\"T_bfbdc_row2_col5\" class=\"data row2 col5\" >1897-05-24</td>\n",
       "      <td id=\"T_bfbdc_row2_col6\" class=\"data row2 col6\" >0</td>\n",
       "      <td id=\"T_bfbdc_row2_col7\" class=\"data row2 col7\" >0.000000</td>\n",
       "      <td id=\"T_bfbdc_row2_col8\" class=\"data row2 col8\" >AFL</td>\n",
       "    </tr>\n",
       "    <tr>\n",
       "      <td id=\"T_bfbdc_row3_col0\" class=\"data row3 col0\" >1897</td>\n",
       "      <td id=\"T_bfbdc_row3_col1\" class=\"data row3 col1\" >Carlton</td>\n",
       "      <td id=\"T_bfbdc_row3_col2\" class=\"data row3 col2\" >Geelong</td>\n",
       "      <td id=\"T_bfbdc_row3_col3\" class=\"data row3 col3\" >22</td>\n",
       "      <td id=\"T_bfbdc_row3_col4\" class=\"data row3 col4\" >44</td>\n",
       "      <td id=\"T_bfbdc_row3_col5\" class=\"data row3 col5\" >1897-05-29</td>\n",
       "      <td id=\"T_bfbdc_row3_col6\" class=\"data row3 col6\" >0</td>\n",
       "      <td id=\"T_bfbdc_row3_col7\" class=\"data row3 col7\" >0.000000</td>\n",
       "      <td id=\"T_bfbdc_row3_col8\" class=\"data row3 col8\" >AFL</td>\n",
       "    </tr>\n",
       "    <tr>\n",
       "      <td id=\"T_bfbdc_row4_col0\" class=\"data row4 col0\" >1897</td>\n",
       "      <td id=\"T_bfbdc_row4_col1\" class=\"data row4 col1\" >Carlton</td>\n",
       "      <td id=\"T_bfbdc_row4_col2\" class=\"data row4 col2\" >Melbourne</td>\n",
       "      <td id=\"T_bfbdc_row4_col3\" class=\"data row4 col3\" >26</td>\n",
       "      <td id=\"T_bfbdc_row4_col4\" class=\"data row4 col4\" >107</td>\n",
       "      <td id=\"T_bfbdc_row4_col5\" class=\"data row4 col5\" >1897-06-05</td>\n",
       "      <td id=\"T_bfbdc_row4_col6\" class=\"data row4 col6\" >0</td>\n",
       "      <td id=\"T_bfbdc_row4_col7\" class=\"data row4 col7\" >0.000000</td>\n",
       "      <td id=\"T_bfbdc_row4_col8\" class=\"data row4 col8\" >AFL</td>\n",
       "    </tr>\n",
       "  </tbody>\n",
       "</table>\n"
      ],
      "text/plain": [
       "<pandas.io.formats.style.Styler at 0x7ea194c91910>"
      ]
     },
     "execution_count": 9,
     "metadata": {},
     "output_type": "execute_result"
    }
   ],
   "source": [
    "styled = style_table(df.head())\n",
    "export_table_html(styled, \"basic_data.html\")\n",
    "styled"
   ]
  },
  {
   "cell_type": "code",
   "execution_count": 13,
   "metadata": {},
   "outputs": [
    {
     "name": "stderr",
     "output_type": "stream",
     "text": [
      "20250821 12:25:04.141976 96193 W arcticdb | LMDB path at /home/nick/source/customers/man-group/arcticdb-notebooks/pythagorean-won-loss-formula/sports/ has already been opened in this process which is not supported by LMDB. You should only open a single Arctic instance over a given LMDB path. To continue safely, you should delete this Arctic instance and any others over the LMDB path in this process and then try again. Current process ID=[96193]\n"
     ]
    }
   ],
   "source": [
    "arctic = adb.Arctic('lmdb://sports')\n",
    "lib = arctic.get_library('leagues', create_if_missing=True)\n",
    "for league in df['LEAGUE'].unique():\n",
    "    lib.write(league, df[df['LEAGUE']==league])"
   ]
  },
  {
   "cell_type": "code",
   "execution_count": 14,
   "metadata": {},
   "outputs": [
    {
     "data": {
      "text/plain": [
       "['MLB', 'NBA', 'NHL', 'SUP', 'NFL', 'EPL', 'IPL', 'AFL', 'LAX']"
      ]
     },
     "execution_count": 14,
     "metadata": {},
     "output_type": "execute_result"
    }
   ],
   "source": [
    "lib.list_symbols()"
   ]
  },
  {
   "cell_type": "code",
   "execution_count": null,
   "metadata": {},
   "outputs": [],
   "source": [
    "# Export all tables to HTML files\n",
    "from styling import export_all_tables, create_index_page\n",
    "\n",
    "# Export all league tables to HTML\n",
    "export_all_tables(lib)\n",
    "\n",
    "# Create index page\n",
    "create_index_page(lib)"
   ]
  }
 ],
 "metadata": {
  "kernelspec": {
   "display_name": "myenv",
   "language": "python",
   "name": "python3"
  },
  "language_info": {
   "codemirror_mode": {
    "name": "ipython",
    "version": 3
   },
   "file_extension": ".py",
   "mimetype": "text/x-python",
   "name": "python",
   "nbconvert_exporter": "python",
   "pygments_lexer": "ipython3",
   "version": "3.12.3"
  }
 },
 "nbformat": 4,
 "nbformat_minor": 4
}
