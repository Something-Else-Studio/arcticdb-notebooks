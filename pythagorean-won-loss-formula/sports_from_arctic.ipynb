{
 "cells": [
  {
   "cell_type": "markdown",
   "metadata": {},
   "source": [
    "# Pythagorean Won Loss Formula Notebook\n",
    "\n",
    "Initial setup"
   ]
  },
  {
   "cell_type": "code",
   "execution_count": 3,
   "metadata": {},
   "outputs": [],
   "source": [
    "try:\n",
    "    import google.colab\n",
    "    import requests\n",
    "    exec(requests.get(\"https://raw.githubusercontent.com/Something-Else-Studio/arcticdb-notebooks/main/styling.py\").text)\n",
    "    dataFile = 'https://raw.githubusercontent.com/Something-Else-Studio/arcticdb-notebooks/main/pythagorean-won-loss-formula/sports.csv'\n",
    "except ImportError:\n",
    "    %load_ext autoreload\n",
    "    %autoreload 2\n",
    "    import sys, os\n",
    "    sys.path.append(os.path.dirname(os.getcwd()))\n",
    "    from styling import *\n",
    "    dataFile = \"sports.csv\""
   ]
  },
  {
   "cell_type": "code",
   "execution_count": 1,
   "metadata": {},
   "outputs": [
    {
     "name": "stdout",
     "output_type": "stream",
     "text": [
      "Note: you may need to restart the kernel to use updated packages.\n"
     ]
    },
    {
     "data": {
      "text/plain": [
       "'6.1.0'"
      ]
     },
     "execution_count": 1,
     "metadata": {},
     "output_type": "execute_result"
    }
   ],
   "source": [
    "%pip install -q arcticdb\n",
    "import arcticdb as adb\n",
    "adb.__version__"
   ]
  },
  {
   "cell_type": "code",
   "execution_count": 2,
   "metadata": {},
   "outputs": [],
   "source": [
    "import numpy as np\n",
    "import pandas as pd\n",
    "import statsmodels.api as sm\n",
    "import statsmodels.formula.api as smf\n",
    "import seaborn as sns\n",
    "import matplotlib.pyplot as plt\n",
    "sns.set_theme()"
   ]
  },
  {
   "cell_type": "code",
   "execution_count": 4,
   "metadata": {},
   "outputs": [],
   "source": [
    "df = pd.read_csv(dataFile)"
   ]
  },
  {
   "cell_type": "code",
   "execution_count": 5,
   "metadata": {},
   "outputs": [
    {
     "name": "stdout",
     "output_type": "stream",
     "text": [
      "Exported: basic_data.html\n"
     ]
    },
    {
     "data": {
      "text/html": [
       "<style type=\"text/css\">\n",
       "#T_63900 th {\n",
       "  background-color: #141C52;\n",
       "  color: #F9F9F9;\n",
       "  font-weight: bold;\n",
       "  text-align: left;\n",
       "  padding: 10px;\n",
       "}\n",
       "#T_63900 td {\n",
       "  background-color: #75D0E8;\n",
       "  color: #141C52;\n",
       "  padding: 8px;\n",
       "}\n",
       "#T_63900 tr:hover td {\n",
       "  background-color: #783ABB;\n",
       "  color: #F9F9F9;\n",
       "}\n",
       "</style>\n",
       "<table id=\"T_63900\">\n",
       "  <thead>\n",
       "    <tr>\n",
       "      <th id=\"T_63900_level0_col0\" class=\"col_heading level0 col0\" >YEAR_ID</th>\n",
       "      <th id=\"T_63900_level0_col1\" class=\"col_heading level0 col1\" >TEAM_ID</th>\n",
       "      <th id=\"T_63900_level0_col2\" class=\"col_heading level0 col2\" >OPP_TEAM_ID</th>\n",
       "      <th id=\"T_63900_level0_col3\" class=\"col_heading level0 col3\" >PS</th>\n",
       "      <th id=\"T_63900_level0_col4\" class=\"col_heading level0 col4\" >PA</th>\n",
       "      <th id=\"T_63900_level0_col5\" class=\"col_heading level0 col5\" >date</th>\n",
       "      <th id=\"T_63900_level0_col6\" class=\"col_heading level0 col6\" >home</th>\n",
       "      <th id=\"T_63900_level0_col7\" class=\"col_heading level0 col7\" >wi</th>\n",
       "      <th id=\"T_63900_level0_col8\" class=\"col_heading level0 col8\" >LEAGUE</th>\n",
       "    </tr>\n",
       "  </thead>\n",
       "  <tbody>\n",
       "    <tr>\n",
       "      <td id=\"T_63900_row0_col0\" class=\"data row0 col0\" >1897</td>\n",
       "      <td id=\"T_63900_row0_col1\" class=\"data row0 col1\" >Carlton</td>\n",
       "      <td id=\"T_63900_row0_col2\" class=\"data row0 col2\" >Fitzroy</td>\n",
       "      <td id=\"T_63900_row0_col3\" class=\"data row0 col3\" >16</td>\n",
       "      <td id=\"T_63900_row0_col4\" class=\"data row0 col4\" >49</td>\n",
       "      <td id=\"T_63900_row0_col5\" class=\"data row0 col5\" >1897-05-08</td>\n",
       "      <td id=\"T_63900_row0_col6\" class=\"data row0 col6\" >0</td>\n",
       "      <td id=\"T_63900_row0_col7\" class=\"data row0 col7\" >0.000000</td>\n",
       "      <td id=\"T_63900_row0_col8\" class=\"data row0 col8\" >AFL</td>\n",
       "    </tr>\n",
       "    <tr>\n",
       "      <td id=\"T_63900_row1_col0\" class=\"data row1 col0\" >1897</td>\n",
       "      <td id=\"T_63900_row1_col1\" class=\"data row1 col1\" >Carlton</td>\n",
       "      <td id=\"T_63900_row1_col2\" class=\"data row1 col2\" >South Melbourne</td>\n",
       "      <td id=\"T_63900_row1_col3\" class=\"data row1 col3\" >36</td>\n",
       "      <td id=\"T_63900_row1_col4\" class=\"data row1 col4\" >40</td>\n",
       "      <td id=\"T_63900_row1_col5\" class=\"data row1 col5\" >1897-05-15</td>\n",
       "      <td id=\"T_63900_row1_col6\" class=\"data row1 col6\" >0</td>\n",
       "      <td id=\"T_63900_row1_col7\" class=\"data row1 col7\" >0.000000</td>\n",
       "      <td id=\"T_63900_row1_col8\" class=\"data row1 col8\" >AFL</td>\n",
       "    </tr>\n",
       "    <tr>\n",
       "      <td id=\"T_63900_row2_col0\" class=\"data row2 col0\" >1897</td>\n",
       "      <td id=\"T_63900_row2_col1\" class=\"data row2 col1\" >Carlton</td>\n",
       "      <td id=\"T_63900_row2_col2\" class=\"data row2 col2\" >Essendon</td>\n",
       "      <td id=\"T_63900_row2_col3\" class=\"data row2 col3\" >41</td>\n",
       "      <td id=\"T_63900_row2_col4\" class=\"data row2 col4\" >78</td>\n",
       "      <td id=\"T_63900_row2_col5\" class=\"data row2 col5\" >1897-05-24</td>\n",
       "      <td id=\"T_63900_row2_col6\" class=\"data row2 col6\" >0</td>\n",
       "      <td id=\"T_63900_row2_col7\" class=\"data row2 col7\" >0.000000</td>\n",
       "      <td id=\"T_63900_row2_col8\" class=\"data row2 col8\" >AFL</td>\n",
       "    </tr>\n",
       "    <tr>\n",
       "      <td id=\"T_63900_row3_col0\" class=\"data row3 col0\" >1897</td>\n",
       "      <td id=\"T_63900_row3_col1\" class=\"data row3 col1\" >Carlton</td>\n",
       "      <td id=\"T_63900_row3_col2\" class=\"data row3 col2\" >Geelong</td>\n",
       "      <td id=\"T_63900_row3_col3\" class=\"data row3 col3\" >22</td>\n",
       "      <td id=\"T_63900_row3_col4\" class=\"data row3 col4\" >44</td>\n",
       "      <td id=\"T_63900_row3_col5\" class=\"data row3 col5\" >1897-05-29</td>\n",
       "      <td id=\"T_63900_row3_col6\" class=\"data row3 col6\" >0</td>\n",
       "      <td id=\"T_63900_row3_col7\" class=\"data row3 col7\" >0.000000</td>\n",
       "      <td id=\"T_63900_row3_col8\" class=\"data row3 col8\" >AFL</td>\n",
       "    </tr>\n",
       "    <tr>\n",
       "      <td id=\"T_63900_row4_col0\" class=\"data row4 col0\" >1897</td>\n",
       "      <td id=\"T_63900_row4_col1\" class=\"data row4 col1\" >Carlton</td>\n",
       "      <td id=\"T_63900_row4_col2\" class=\"data row4 col2\" >Melbourne</td>\n",
       "      <td id=\"T_63900_row4_col3\" class=\"data row4 col3\" >26</td>\n",
       "      <td id=\"T_63900_row4_col4\" class=\"data row4 col4\" >107</td>\n",
       "      <td id=\"T_63900_row4_col5\" class=\"data row4 col5\" >1897-06-05</td>\n",
       "      <td id=\"T_63900_row4_col6\" class=\"data row4 col6\" >0</td>\n",
       "      <td id=\"T_63900_row4_col7\" class=\"data row4 col7\" >0.000000</td>\n",
       "      <td id=\"T_63900_row4_col8\" class=\"data row4 col8\" >AFL</td>\n",
       "    </tr>\n",
       "  </tbody>\n",
       "</table>\n"
      ],
      "text/plain": [
       "<pandas.io.formats.style.Styler at 0x71ce55aa1bb0>"
      ]
     },
     "execution_count": 5,
     "metadata": {},
     "output_type": "execute_result"
    }
   ],
   "source": [
    "df = df.drop(columns=\"Unnamed: 0\")\n",
    "df = df.rename(columns={'FREQ_RUNS_S': 'PS',\n",
    "                        'FREQ_RUNS_A': 'PA' })\n",
    "\n",
    "df = df.sort_values(['LEAGUE','YEAR_ID','TEAM_ID'])\n",
    "styled = style_table(df.head())\n",
    "export_table_html(styled, \"basic_data.html\")\n",
    "styled"
   ]
  },
  {
   "cell_type": "code",
   "execution_count": 6,
   "metadata": {},
   "outputs": [
    {
     "data": {
      "text/plain": [
       "['MLB', 'NBA', 'SUP', 'NHL', 'LAX', 'AFL', 'NFL', 'IPL', 'EPL']"
      ]
     },
     "execution_count": 6,
     "metadata": {},
     "output_type": "execute_result"
    }
   ],
   "source": [
    "arctic = adb.Arctic('lmdb://sports')\n",
    "lib = arctic.get_library('leagues', create_if_missing=True)\n",
    "for league in df['LEAGUE'].unique():\n",
    "    lib.write(league, df[df['LEAGUE']==league])\n",
    "lib.list_symbols()"
   ]
  },
  {
   "cell_type": "code",
   "execution_count": 7,
   "metadata": {},
   "outputs": [],
   "source": [
    "def ols_coef (df, xcol, ycol):\n",
    "    \"\"\"simple OLS function used for lambda calcs -- assumes univariate regression\"\"\"\n",
    "    model=sm.OLS(df[ycol],sm.add_constant(df[xcol])).fit()    \n",
    "\n",
    "    outdf = pd.DataFrame({'adj.'    : model.params.iloc[0],\n",
    "                          'adj. se' : model.bse.iloc[0],\n",
    "                          'λ'    : model.params.iloc[1],\n",
    "                          'λ se' : model.bse.iloc[1],\n",
    "                          'nobs' : model.nobs,\n",
    "                          'adj. $R^2$': model.rsquared_adj}, index=[0])    \n",
    "\n",
    "    return outdf"
   ]
  },
  {
   "cell_type": "markdown",
   "metadata": {},
   "source": [
    "Our study period is from 2010 to 2019"
   ]
  },
  {
   "cell_type": "code",
   "execution_count": 8,
   "metadata": {},
   "outputs": [],
   "source": [
    "st_year_ = 2010\n",
    "end_year_ = 2019"
   ]
  },
  {
   "cell_type": "markdown",
   "metadata": {},
   "source": [
    "### Connect to ArcticDB and get list of leagues"
   ]
  },
  {
   "cell_type": "code",
   "execution_count": 9,
   "metadata": {},
   "outputs": [
    {
     "name": "stderr",
     "output_type": "stream",
     "text": [
      "20250821 16:22:11.904126 23736 W arcticdb | LMDB path at /home/nick/source/customers/man-group/arcticdb-notebooks/pythagorean-won-loss-formula/sports/ has already been opened in this process which is not supported by LMDB. You should only open a single Arctic instance over a given LMDB path. To continue safely, you should delete this Arctic instance and any others over the LMDB path in this process and then try again. Current process ID=[23736]\n"
     ]
    },
    {
     "data": {
      "text/plain": [
       "['MLB', 'NBA', 'SUP', 'NHL', 'LAX', 'AFL', 'NFL', 'IPL', 'EPL']"
      ]
     },
     "execution_count": 9,
     "metadata": {},
     "output_type": "execute_result"
    }
   ],
   "source": [
    "arctic = adb.Arctic('lmdb://sports')\n",
    "league_data = arctic.get_library('leagues')\n",
    "leagues = league_data.list_symbols()\n",
    "leagues"
   ]
  },
  {
   "cell_type": "code",
   "execution_count": 10,
   "metadata": {},
   "outputs": [
    {
     "data": {
      "text/html": [
       "<style type=\"text/css\">\n",
       "#T_a826f th {\n",
       "  background-color: #141C52;\n",
       "  color: #F9F9F9;\n",
       "  font-weight: bold;\n",
       "  text-align: left;\n",
       "  padding: 10px;\n",
       "}\n",
       "#T_a826f td {\n",
       "  background-color: #75D0E8;\n",
       "  color: #141C52;\n",
       "  padding: 8px;\n",
       "}\n",
       "#T_a826f tr:hover td {\n",
       "  background-color: #783ABB;\n",
       "  color: #F9F9F9;\n",
       "}\n",
       "</style>\n",
       "<table id=\"T_a826f\">\n",
       "  <thead>\n",
       "    <tr>\n",
       "      <th id=\"T_a826f_level0_col0\" class=\"col_heading level0 col0\" >LEAGUE</th>\n",
       "      <th id=\"T_a826f_level0_col1\" class=\"col_heading level0 col1\" >PS</th>\n",
       "    </tr>\n",
       "  </thead>\n",
       "  <tbody>\n",
       "    <tr>\n",
       "      <td id=\"T_a826f_row0_col0\" class=\"data row0 col0\" >MLB</td>\n",
       "      <td id=\"T_a826f_row0_col1\" class=\"data row0 col1\" >6</td>\n",
       "    </tr>\n",
       "    <tr>\n",
       "      <td id=\"T_a826f_row1_col0\" class=\"data row1 col0\" >MLB</td>\n",
       "      <td id=\"T_a826f_row1_col1\" class=\"data row1 col1\" >3</td>\n",
       "    </tr>\n",
       "    <tr>\n",
       "      <td id=\"T_a826f_row2_col0\" class=\"data row2 col0\" >MLB</td>\n",
       "      <td id=\"T_a826f_row2_col1\" class=\"data row2 col1\" >2</td>\n",
       "    </tr>\n",
       "    <tr>\n",
       "      <td id=\"T_a826f_row3_col0\" class=\"data row3 col0\" >MLB</td>\n",
       "      <td id=\"T_a826f_row3_col1\" class=\"data row3 col1\" >1</td>\n",
       "    </tr>\n",
       "    <tr>\n",
       "      <td id=\"T_a826f_row4_col0\" class=\"data row4 col0\" >MLB</td>\n",
       "      <td id=\"T_a826f_row4_col1\" class=\"data row4 col1\" >4</td>\n",
       "    </tr>\n",
       "    <tr>\n",
       "      <td id=\"T_a826f_row5_col0\" class=\"data row5 col0\" >MLB</td>\n",
       "      <td id=\"T_a826f_row5_col1\" class=\"data row5 col1\" >4</td>\n",
       "    </tr>\n",
       "    <tr>\n",
       "      <td id=\"T_a826f_row6_col0\" class=\"data row6 col0\" >MLB</td>\n",
       "      <td id=\"T_a826f_row6_col1\" class=\"data row6 col1\" >4</td>\n",
       "    </tr>\n",
       "    <tr>\n",
       "      <td id=\"T_a826f_row7_col0\" class=\"data row7 col0\" >MLB</td>\n",
       "      <td id=\"T_a826f_row7_col1\" class=\"data row7 col1\" >5</td>\n",
       "    </tr>\n",
       "    <tr>\n",
       "      <td id=\"T_a826f_row8_col0\" class=\"data row8 col0\" >MLB</td>\n",
       "      <td id=\"T_a826f_row8_col1\" class=\"data row8 col1\" >5</td>\n",
       "    </tr>\n",
       "    <tr>\n",
       "      <td id=\"T_a826f_row9_col0\" class=\"data row9 col0\" >MLB</td>\n",
       "      <td id=\"T_a826f_row9_col1\" class=\"data row9 col1\" >2</td>\n",
       "    </tr>\n",
       "    <tr>\n",
       "      <td id=\"T_a826f_row10_col0\" class=\"data row10 col0\" >MLB</td>\n",
       "      <td id=\"T_a826f_row10_col1\" class=\"data row10 col1\" >7</td>\n",
       "    </tr>\n",
       "    <tr>\n",
       "      <td id=\"T_a826f_row11_col0\" class=\"data row11 col0\" >MLB</td>\n",
       "      <td id=\"T_a826f_row11_col1\" class=\"data row11 col1\" >6</td>\n",
       "    </tr>\n",
       "    <tr>\n",
       "      <td id=\"T_a826f_row12_col0\" class=\"data row12 col0\" >MLB</td>\n",
       "      <td id=\"T_a826f_row12_col1\" class=\"data row12 col1\" >3</td>\n",
       "    </tr>\n",
       "    <tr>\n",
       "      <td id=\"T_a826f_row13_col0\" class=\"data row13 col0\" >MLB</td>\n",
       "      <td id=\"T_a826f_row13_col1\" class=\"data row13 col1\" >2</td>\n",
       "    </tr>\n",
       "    <tr>\n",
       "      <td id=\"T_a826f_row14_col0\" class=\"data row14 col0\" >MLB</td>\n",
       "      <td id=\"T_a826f_row14_col1\" class=\"data row14 col1\" >6</td>\n",
       "    </tr>\n",
       "    <tr>\n",
       "      <td id=\"T_a826f_row15_col0\" class=\"data row15 col0\" >MLB</td>\n",
       "      <td id=\"T_a826f_row15_col1\" class=\"data row15 col1\" >3</td>\n",
       "    </tr>\n",
       "    <tr>\n",
       "      <td id=\"T_a826f_row16_col0\" class=\"data row16 col0\" >MLB</td>\n",
       "      <td id=\"T_a826f_row16_col1\" class=\"data row16 col1\" >4</td>\n",
       "    </tr>\n",
       "    <tr>\n",
       "      <td id=\"T_a826f_row17_col0\" class=\"data row17 col0\" >MLB</td>\n",
       "      <td id=\"T_a826f_row17_col1\" class=\"data row17 col1\" >6</td>\n",
       "    </tr>\n",
       "    <tr>\n",
       "      <td id=\"T_a826f_row18_col0\" class=\"data row18 col0\" >MLB</td>\n",
       "      <td id=\"T_a826f_row18_col1\" class=\"data row18 col1\" >1</td>\n",
       "    </tr>\n",
       "    <tr>\n",
       "      <td id=\"T_a826f_row19_col0\" class=\"data row19 col0\" >MLB</td>\n",
       "      <td id=\"T_a826f_row19_col1\" class=\"data row19 col1\" >8</td>\n",
       "    </tr>\n",
       "  </tbody>\n",
       "</table>\n"
      ],
      "text/plain": [
       "<pandas.io.formats.style.Styler at 0x71ce551b85f0>"
      ]
     },
     "execution_count": 10,
     "metadata": {},
     "output_type": "execute_result"
    }
   ],
   "source": [
    "# points scored for all games\n",
    "lazy_dfs = league_data.read_batch(leagues, lazy=True)\n",
    "lazy_dfs = lazy_dfs[(lazy_dfs['YEAR_ID']>=st_year_) & (lazy_dfs['YEAR_ID']<=end_year_)]\n",
    "lazy_dfs = adb.concat(lazy_dfs)\n",
    "points_scored = lazy_dfs.collect().data[['LEAGUE', 'PS']]\n",
    "style_table(points_scored)"
   ]
  },
  {
   "cell_type": "markdown",
   "metadata": {},
   "source": [
    "### Figure 1 calculate points-scored stats\n",
    "- check positive skew comment in text\n",
    "- note need help to plot via python like r panel plot"
   ]
  },
  {
   "cell_type": "code",
   "execution_count": 12,
   "metadata": {},
   "outputs": [
    {
     "data": {
      "text/html": [
       "<style type=\"text/css\">\n",
       "#T_d899d th {\n",
       "  background-color: #141C52;\n",
       "  color: #F9F9F9;\n",
       "  font-weight: bold;\n",
       "  text-align: left;\n",
       "  padding: 10px;\n",
       "}\n",
       "#T_d899d td {\n",
       "  background-color: #75D0E8;\n",
       "  color: #141C52;\n",
       "  padding: 8px;\n",
       "}\n",
       "#T_d899d tr:hover td {\n",
       "  background-color: #783ABB;\n",
       "  color: #F9F9F9;\n",
       "}\n",
       "</style>\n",
       "<table id=\"T_d899d\">\n",
       "  <thead>\n",
       "    <tr>\n",
       "      <th class=\"blank level0\" >&nbsp;</th>\n",
       "      <th id=\"T_d899d_level0_col0\" class=\"col_heading level0 col0\" >Mean</th>\n",
       "      <th id=\"T_d899d_level0_col1\" class=\"col_heading level0 col1\" >Std</th>\n",
       "      <th id=\"T_d899d_level0_col2\" class=\"col_heading level0 col2\" >Skew</th>\n",
       "      <th id=\"T_d899d_level0_col3\" class=\"col_heading level0 col3\" >nobs</th>\n",
       "      <th id=\"T_d899d_level0_col4\" class=\"col_heading level0 col4\" >IR</th>\n",
       "    </tr>\n",
       "    <tr>\n",
       "      <th class=\"index_name level0\" >LEAGUE</th>\n",
       "      <th class=\"blank col0\" >&nbsp;</th>\n",
       "      <th class=\"blank col1\" >&nbsp;</th>\n",
       "      <th class=\"blank col2\" >&nbsp;</th>\n",
       "      <th class=\"blank col3\" >&nbsp;</th>\n",
       "      <th class=\"blank col4\" >&nbsp;</th>\n",
       "    </tr>\n",
       "  </thead>\n",
       "  <tbody>\n",
       "    <tr>\n",
       "      <th id=\"T_d899d_level0_row0\" class=\"row_heading level0 row0\" >EPL</th>\n",
       "      <td id=\"T_d899d_row0_col0\" class=\"data row0 col0\" >1.380000</td>\n",
       "      <td id=\"T_d899d_row0_col1\" class=\"data row0 col1\" >1.260000</td>\n",
       "      <td id=\"T_d899d_row0_col2\" class=\"data row0 col2\" >1.030000</td>\n",
       "      <td id=\"T_d899d_row0_col3\" class=\"data row0 col3\" >7600</td>\n",
       "      <td id=\"T_d899d_row0_col4\" class=\"data row0 col4\" >1.090000</td>\n",
       "    </tr>\n",
       "    <tr>\n",
       "      <th id=\"T_d899d_level0_row1\" class=\"row_heading level0 row1\" >MLB</th>\n",
       "      <td id=\"T_d899d_row1_col0\" class=\"data row1 col0\" >4.390000</td>\n",
       "      <td id=\"T_d899d_row1_col1\" class=\"data row1 col1\" >3.100000</td>\n",
       "      <td id=\"T_d899d_row1_col2\" class=\"data row1 col2\" >1.000000</td>\n",
       "      <td id=\"T_d899d_row1_col3\" class=\"data row1 col3\" >48594</td>\n",
       "      <td id=\"T_d899d_row1_col4\" class=\"data row1 col4\" >1.420000</td>\n",
       "    </tr>\n",
       "    <tr>\n",
       "      <th id=\"T_d899d_level0_row2\" class=\"row_heading level0 row2\" >NHL</th>\n",
       "      <td id=\"T_d899d_row2_col0\" class=\"data row2 col0\" >2.810000</td>\n",
       "      <td id=\"T_d899d_row2_col1\" class=\"data row2 col1\" >1.640000</td>\n",
       "      <td id=\"T_d899d_row2_col2\" class=\"data row2 col2\" >0.420000</td>\n",
       "      <td id=\"T_d899d_row2_col3\" class=\"data row2 col3\" >23744</td>\n",
       "      <td id=\"T_d899d_row2_col4\" class=\"data row2 col4\" >1.710000</td>\n",
       "    </tr>\n",
       "    <tr>\n",
       "      <th id=\"T_d899d_level0_row3\" class=\"row_heading level0 row3\" >SUP</th>\n",
       "      <td id=\"T_d899d_row3_col0\" class=\"data row3 col0\" >25.100000</td>\n",
       "      <td id=\"T_d899d_row3_col1\" class=\"data row3 col1\" >11.970000</td>\n",
       "      <td id=\"T_d899d_row3_col2\" class=\"data row3 col2\" >0.880000</td>\n",
       "      <td id=\"T_d899d_row3_col3\" class=\"data row3 col3\" >2402</td>\n",
       "      <td id=\"T_d899d_row3_col4\" class=\"data row3 col4\" >2.100000</td>\n",
       "    </tr>\n",
       "    <tr>\n",
       "      <th id=\"T_d899d_level0_row4\" class=\"row_heading level0 row4\" >NFL</th>\n",
       "      <td id=\"T_d899d_row4_col0\" class=\"data row4 col0\" >22.640000</td>\n",
       "      <td id=\"T_d899d_row4_col1\" class=\"data row4 col1\" >10.180000</td>\n",
       "      <td id=\"T_d899d_row4_col2\" class=\"data row4 col2\" >0.290000</td>\n",
       "      <td id=\"T_d899d_row4_col3\" class=\"data row4 col3\" >5120</td>\n",
       "      <td id=\"T_d899d_row4_col4\" class=\"data row4 col4\" >2.230000</td>\n",
       "    </tr>\n",
       "    <tr>\n",
       "      <th id=\"T_d899d_level0_row5\" class=\"row_heading level0 row5\" >LAX</th>\n",
       "      <td id=\"T_d899d_row5_col0\" class=\"data row5 col0\" >10.260000</td>\n",
       "      <td id=\"T_d899d_row5_col1\" class=\"data row5 col1\" >3.980000</td>\n",
       "      <td id=\"T_d899d_row5_col2\" class=\"data row5 col2\" >0.500000</td>\n",
       "      <td id=\"T_d899d_row5_col3\" class=\"data row5 col3\" >10006</td>\n",
       "      <td id=\"T_d899d_row5_col4\" class=\"data row5 col4\" >2.580000</td>\n",
       "    </tr>\n",
       "    <tr>\n",
       "      <th id=\"T_d899d_level0_row6\" class=\"row_heading level0 row6\" >AFL</th>\n",
       "      <td id=\"T_d899d_row6_col0\" class=\"data row6 col0\" >88.300000</td>\n",
       "      <td id=\"T_d899d_row6_col1\" class=\"data row6 col1\" >27.750000</td>\n",
       "      <td id=\"T_d899d_row6_col2\" class=\"data row6 col2\" >0.480000</td>\n",
       "      <td id=\"T_d899d_row6_col3\" class=\"data row6 col3\" >3892</td>\n",
       "      <td id=\"T_d899d_row6_col4\" class=\"data row6 col4\" >3.180000</td>\n",
       "    </tr>\n",
       "    <tr>\n",
       "      <th id=\"T_d899d_level0_row7\" class=\"row_heading level0 row7\" >IPL</th>\n",
       "      <td id=\"T_d899d_row7_col0\" class=\"data row7 col0\" >163.270000</td>\n",
       "      <td id=\"T_d899d_row7_col1\" class=\"data row7 col1\" >31.420000</td>\n",
       "      <td id=\"T_d899d_row7_col2\" class=\"data row7 col2\" >0.160000</td>\n",
       "      <td id=\"T_d899d_row7_col3\" class=\"data row7 col3\" >1274</td>\n",
       "      <td id=\"T_d899d_row7_col4\" class=\"data row7 col4\" >5.200000</td>\n",
       "    </tr>\n",
       "    <tr>\n",
       "      <th id=\"T_d899d_level0_row8\" class=\"row_heading level0 row8\" >NBA</th>\n",
       "      <td id=\"T_d899d_row8_col0\" class=\"data row8 col0\" >102.240000</td>\n",
       "      <td id=\"T_d899d_row8_col1\" class=\"data row8 col1\" >12.660000</td>\n",
       "      <td id=\"T_d899d_row8_col2\" class=\"data row8 col2\" >0.180000</td>\n",
       "      <td id=\"T_d899d_row8_col3\" class=\"data row8 col3\" >24118</td>\n",
       "      <td id=\"T_d899d_row8_col4\" class=\"data row8 col4\" >8.080000</td>\n",
       "    </tr>\n",
       "  </tbody>\n",
       "</table>\n"
      ],
      "text/plain": [
       "<pandas.io.formats.style.Styler at 0x71ce551baf00>"
      ]
     },
     "execution_count": 12,
     "metadata": {},
     "output_type": "execute_result"
    }
   ],
   "source": [
    "point_stats = points_scored.groupby(['LEAGUE']).agg(Mean=('PS', 'mean'),\n",
    "                                             Std=('PS', 'std'),\n",
    "                                             Skew=('PS', 'skew'),\n",
    "                                             nobs=('PS', 'count'))\n",
    "point_stats['IR']=point_stats['Mean']/point_stats['Std']\n",
    "point_stats = point_stats.sort_values(['IR'])\n",
    "style_table(point_stats.round(2), hide_index=False)"
   ]
  },
  {
   "cell_type": "code",
   "execution_count": 16,
   "metadata": {},
   "outputs": [
    {
     "data": {
      "image/png": "[encoded data removed]",
      "text/plain": [
       "<Figure size 1080x720 with 5 Axes>"
      ]
     },
     "metadata": {
      "needs_background": "light"
     },
     "output_type": "display_data"
    }
   ],
   "source": [
    "grid = sns.catplot(point_stats.reset_index().melt(['LEAGUE']),\n",
    "                   kind=\"bar\",\n",
    "                   x=\"LEAGUE\",\n",
    "                   y=\"value\",\n",
    "                   hue=\"LEAGUE\",\n",
    "                   col=\"variable\",\n",
    "                   col_wrap=3,\n",
    "                   sharey=False)\n",
    "grid.set_axis_labels(\"\", \"\")\n",
    "grid.set_titles(\"{col_name} (Points Scored)\");"
   ]
  },
  {
   "cell_type": "markdown",
   "metadata": {},
   "source": [
    "### Save into ArcticDB"
   ]
  },
  {
   "cell_type": "code",
   "execution_count": 17,
   "metadata": {},
   "outputs": [
    {
     "data": {
      "text/plain": [
       "VersionedItem(symbol='point_stats', library='analysis', data=n/a, version=0, metadata=None, host='LMDB(path=/users/is/mmorozov/man/greg.article/sports)', timestamp=1751459904599425717)"
      ]
     },
     "execution_count": 17,
     "metadata": {},
     "output_type": "execute_result"
    }
   ],
   "source": [
    "analysis = arctic.get_library('analysis', create_if_missing=True)\n",
    "analysis.write('point_stats', point_stats)"
   ]
  },
  {
   "cell_type": "markdown",
   "metadata": {},
   "source": [
    "### Regress points against wins\n",
    "set up data for regresion by aggregating by league-team-season"
   ]
  },
  {
   "cell_type": "code",
   "execution_count": null,
   "metadata": {},
   "outputs": [
    {
     "data": {
      "text/html": [
       "<div>\n",
       "<style scoped>\n",
       "    .dataframe tbody tr th:only-of-type {\n",
       "        vertical-align: middle;\n",
       "    }\n",
       "\n",
       "    .dataframe tbody tr th {\n",
       "        vertical-align: top;\n",
       "    }\n",
       "\n",
       "    .dataframe thead th {\n",
       "        text-align: right;\n",
       "    }\n",
       "</style>\n",
       "<table border=\"1\" class=\"dataframe\">\n",
       "  <thead>\n",
       "    <tr style=\"text-align: right;\">\n",
       "      <th></th>\n",
       "      <th></th>\n",
       "      <th></th>\n",
       "      <th>PS</th>\n",
       "      <th>PA</th>\n",
       "      <th>wi</th>\n",
       "      <th>nobs</th>\n",
       "    </tr>\n",
       "    <tr>\n",
       "      <th>LEAGUE</th>\n",
       "      <th>YEAR_ID</th>\n",
       "      <th>TEAM_ID</th>\n",
       "      <th></th>\n",
       "      <th></th>\n",
       "      <th></th>\n",
       "      <th></th>\n",
       "    </tr>\n",
       "  </thead>\n",
       "  <tbody>\n",
       "    <tr>\n",
       "      <th rowspan=\"5\" valign=\"top\">AFL</th>\n",
       "      <th rowspan=\"5\" valign=\"top\">1897</th>\n",
       "      <th>Carlton</th>\n",
       "      <td>26.86</td>\n",
       "      <td>52.64</td>\n",
       "      <td>0.14</td>\n",
       "      <td>14</td>\n",
       "    </tr>\n",
       "    <tr>\n",
       "      <th>Collingwood</th>\n",
       "      <td>36.36</td>\n",
       "      <td>31.79</td>\n",
       "      <td>0.64</td>\n",
       "      <td>14</td>\n",
       "    </tr>\n",
       "    <tr>\n",
       "      <th>Essendon</th>\n",
       "      <td>50.43</td>\n",
       "      <td>31.79</td>\n",
       "      <td>0.79</td>\n",
       "      <td>14</td>\n",
       "    </tr>\n",
       "    <tr>\n",
       "      <th>Fitzroy</th>\n",
       "      <td>36.36</td>\n",
       "      <td>34.64</td>\n",
       "      <td>0.32</td>\n",
       "      <td>14</td>\n",
       "    </tr>\n",
       "    <tr>\n",
       "      <th>Geelong</th>\n",
       "      <td>50.29</td>\n",
       "      <td>27.36</td>\n",
       "      <td>0.79</td>\n",
       "      <td>14</td>\n",
       "    </tr>\n",
       "  </tbody>\n",
       "</table>\n",
       "</div>"
      ],
      "text/plain": [
       "                               PS     PA    wi  nobs\n",
       "LEAGUE YEAR_ID TEAM_ID                              \n",
       "AFL    1897    Carlton      26.86  52.64  0.14    14\n",
       "               Collingwood  36.36  31.79  0.64    14\n",
       "               Essendon     50.43  31.79  0.79    14\n",
       "               Fitzroy      36.36  34.64  0.32    14\n",
       "               Geelong      50.29  27.36  0.79    14"
      ]
     },
     "execution_count": 18,
     "metadata": {},
     "output_type": "execute_result"
    }
   ],
   "source": [
    "lazy_dfs = league_data.read_batch(leagues, lazy=True)\n",
    "df = adb.concat(lazy_dfs).collect().data[['LEAGUE','YEAR_ID','TEAM_ID','PS','PA','wi']]\n",
    "df_team = df.groupby(['LEAGUE','YEAR_ID','TEAM_ID']).agg(PS=('PS', 'mean'),\n",
    "                                                         PA=('PA', 'mean'),\n",
    "                                                         wi=('wi', 'mean'),\n",
    "                                                         nobs=('wi', 'count'))\n",
    "df_team.round(2).head()"
   ]
  },
  {
   "cell_type": "markdown",
   "metadata": {},
   "source": [
    "### Figure 2 -- NBA and EPL"
   ]
  },
  {
   "cell_type": "code",
   "execution_count": 19,
   "metadata": {},
   "outputs": [
    {
     "data": {
      "image/png": "[encoded data removed]",
      "text/plain": [
       "<Figure size 576x360 with 1 Axes>"
      ]
     },
     "metadata": {
      "needs_background": "light"
     },
     "output_type": "display_data"
    }
   ],
   "source": [
    "# prepare data for regression\n",
    "df_reg = df_team.copy()\n",
    "df_reg = df_reg.loc[(df_reg['PS']>0) & (df_reg['PA']>0) & (df_reg['wi']>0) & (df_reg['wi']<1)]\n",
    "df_reg['lnwi']=np.log(df_reg['wi']/(1-df_reg['wi']))\n",
    "df_reg['lnPSPA']=np.log(df_reg['PS']/df_reg['PA'])\n",
    "df_reg = df_reg.reset_index()\n",
    "\n",
    "# plot\n",
    "NBA_and_EPL = df_reg[df_reg['LEAGUE'].isin(['NBA', 'EPL'])]\n",
    "sns.lmplot(data=NBA_and_EPL,\n",
    "           x='lnPSPA',\n",
    "           y='lnwi',\n",
    "           hue='LEAGUE',\n",
    "           scatter_kws=dict(s=3),\n",
    "           line_kws=dict(color=\"grey\"),\n",
    "           facet_kws=dict(legend_out=False),\n",
    "           aspect=1.6)\n",
    "plt.title('Figure 2. Team-Season Plot: EPL (1888-89 to 2018-19) & NBA (1946-47 to 2018-19)')\n",
    "plt.xlabel('log(PSi / PAi)')\n",
    "plt.ylabel('log(Wi / Li)');"
   ]
  },
  {
   "cell_type": "code",
   "execution_count": 20,
   "metadata": {},
   "outputs": [
    {
     "data": {
      "text/html": [
       "<div>\n",
       "<style scoped>\n",
       "    .dataframe tbody tr th:only-of-type {\n",
       "        vertical-align: middle;\n",
       "    }\n",
       "\n",
       "    .dataframe tbody tr th {\n",
       "        vertical-align: top;\n",
       "    }\n",
       "\n",
       "    .dataframe thead th {\n",
       "        text-align: right;\n",
       "    }\n",
       "</style>\n",
       "<table border=\"1\" class=\"dataframe\">\n",
       "  <thead>\n",
       "    <tr style=\"text-align: right;\">\n",
       "      <th></th>\n",
       "      <th>LEAGUE</th>\n",
       "      <th>adj.</th>\n",
       "      <th>adj. se</th>\n",
       "      <th>λ</th>\n",
       "      <th>λ se</th>\n",
       "      <th>nobs</th>\n",
       "      <th>adj. $R^2$</th>\n",
       "    </tr>\n",
       "  </thead>\n",
       "  <tbody>\n",
       "    <tr>\n",
       "      <th>0</th>\n",
       "      <td>EPL</td>\n",
       "      <td>-0.15</td>\n",
       "      <td>0.01</td>\n",
       "      <td>1.24</td>\n",
       "      <td>0.02</td>\n",
       "      <td>200.0</td>\n",
       "      <td>0.94</td>\n",
       "    </tr>\n",
       "    <tr>\n",
       "      <th>1</th>\n",
       "      <td>MLB</td>\n",
       "      <td>-0.00</td>\n",
       "      <td>0.01</td>\n",
       "      <td>1.78</td>\n",
       "      <td>0.04</td>\n",
       "      <td>300.0</td>\n",
       "      <td>0.89</td>\n",
       "    </tr>\n",
       "    <tr>\n",
       "      <th>2</th>\n",
       "      <td>NHL</td>\n",
       "      <td>0.24</td>\n",
       "      <td>0.01</td>\n",
       "      <td>2.06</td>\n",
       "      <td>0.04</td>\n",
       "      <td>302.0</td>\n",
       "      <td>0.91</td>\n",
       "    </tr>\n",
       "    <tr>\n",
       "      <th>3</th>\n",
       "      <td>SUP</td>\n",
       "      <td>-0.03</td>\n",
       "      <td>0.03</td>\n",
       "      <td>2.60</td>\n",
       "      <td>0.09</td>\n",
       "      <td>154.0</td>\n",
       "      <td>0.84</td>\n",
       "    </tr>\n",
       "    <tr>\n",
       "      <th>4</th>\n",
       "      <td>NFL</td>\n",
       "      <td>0.02</td>\n",
       "      <td>0.02</td>\n",
       "      <td>2.84</td>\n",
       "      <td>0.08</td>\n",
       "      <td>319.0</td>\n",
       "      <td>0.81</td>\n",
       "    </tr>\n",
       "    <tr>\n",
       "      <th>5</th>\n",
       "      <td>LAX</td>\n",
       "      <td>-0.02</td>\n",
       "      <td>0.01</td>\n",
       "      <td>3.17</td>\n",
       "      <td>0.05</td>\n",
       "      <td>655.0</td>\n",
       "      <td>0.84</td>\n",
       "    </tr>\n",
       "    <tr>\n",
       "      <th>6</th>\n",
       "      <td>AFL</td>\n",
       "      <td>-0.02</td>\n",
       "      <td>0.02</td>\n",
       "      <td>3.57</td>\n",
       "      <td>0.09</td>\n",
       "      <td>177.0</td>\n",
       "      <td>0.90</td>\n",
       "    </tr>\n",
       "    <tr>\n",
       "      <th>7</th>\n",
       "      <td>IPL</td>\n",
       "      <td>-0.02</td>\n",
       "      <td>0.04</td>\n",
       "      <td>6.79</td>\n",
       "      <td>0.65</td>\n",
       "      <td>84.0</td>\n",
       "      <td>0.57</td>\n",
       "    </tr>\n",
       "    <tr>\n",
       "      <th>8</th>\n",
       "      <td>NBA</td>\n",
       "      <td>-0.00</td>\n",
       "      <td>0.01</td>\n",
       "      <td>14.32</td>\n",
       "      <td>0.21</td>\n",
       "      <td>300.0</td>\n",
       "      <td>0.94</td>\n",
       "    </tr>\n",
       "  </tbody>\n",
       "</table>\n",
       "</div>"
      ],
      "text/plain": [
       "  LEAGUE  adj.  adj. se      λ  λ se   nobs  adj. $R^2$\n",
       "0    EPL -0.15     0.01   1.24  0.02  200.0        0.94\n",
       "1    MLB -0.00     0.01   1.78  0.04  300.0        0.89\n",
       "2    NHL  0.24     0.01   2.06  0.04  302.0        0.91\n",
       "3    SUP -0.03     0.03   2.60  0.09  154.0        0.84\n",
       "4    NFL  0.02     0.02   2.84  0.08  319.0        0.81\n",
       "5    LAX -0.02     0.01   3.17  0.05  655.0        0.84\n",
       "6    AFL -0.02     0.02   3.57  0.09  177.0        0.90\n",
       "7    IPL -0.02     0.04   6.79  0.65   84.0        0.57\n",
       "8    NBA -0.00     0.01  14.32  0.21  300.0        0.94"
      ]
     },
     "execution_count": 20,
     "metadata": {},
     "output_type": "execute_result"
    }
   ],
   "source": [
    "# Compute standard regression results by team-season for 2010-19 period\n",
    "df_ols = df_reg.loc[(df_reg['YEAR_ID']>=st_year_) & (df_reg['YEAR_ID']<=end_year_)]\n",
    "ols=df_ols.groupby(['LEAGUE']).apply(ols_coef,xcol=['lnPSPA'],ycol=['lnwi'])\n",
    "ols = ols.droplevel(1).sort_values(['λ']).reset_index().round(2)\n",
    "ols"
   ]
  },
  {
   "cell_type": "markdown",
   "metadata": {},
   "source": [
    "### Save into ArcticDB"
   ]
  },
  {
   "cell_type": "code",
   "execution_count": 21,
   "metadata": {},
   "outputs": [],
   "source": [
    "analysis.write('ols', ols);"
   ]
  },
  {
   "cell_type": "markdown",
   "metadata": {},
   "source": [
    "### Figure 3a -- 2010 to 2019"
   ]
  },
  {
   "cell_type": "code",
   "execution_count": 22,
   "metadata": {},
   "outputs": [
    {
     "data": {
      "image/png": "[encoded data removed]",
      "text/plain": [
       "<Figure size 1080x360 with 3 Axes>"
      ]
     },
     "metadata": {
      "needs_background": "light"
     },
     "output_type": "display_data"
    }
   ],
   "source": [
    "grid = sns.catplot(ols.melt(['LEAGUE']),\n",
    "                   kind=\"bar\",\n",
    "                   x=\"LEAGUE\",\n",
    "                   y=\"value\",\n",
    "                   hue=\"LEAGUE\",\n",
    "                   col=\"variable\",\n",
    "                   col_order=[\"λ\", \"nobs\", \"adj. $R^2$\"],\n",
    "                   sharey=False)\n",
    "grid.set_axis_labels(\"\", \"\")\n",
    "grid.set_titles(\"{col_name}\")\n",
    "# add error bars to λ\n",
    "axis = grid.facet_axis(0, 0, True)\n",
    "axis.errorbar(ols['LEAGUE'], ols['λ'], yerr=ols['λ se']*2, fmt=\"none\", capsize=5, color=\"r\")\n",
    "# add labels to R^2\n",
    "axis = grid.facet_axis(0, 2, True)\n",
    "[axis.bar_label(c, fontsize=10) for c in axis.containers];"
   ]
  },
  {
   "cell_type": "code",
   "execution_count": 23,
   "metadata": {},
   "outputs": [
    {
     "data": {
      "image/png": "[encoded data removed]",
      "text/plain": [
       "<Figure size 432x288 with 1 Axes>"
      ]
     },
     "metadata": {
      "needs_background": "light"
     },
     "output_type": "display_data"
    },
    {
     "data": {
      "image/png": "[encoded data removed]",
      "text/plain": [
       "<Figure size 432x288 with 1 Axes>"
      ]
     },
     "metadata": {
      "needs_background": "light"
     },
     "output_type": "display_data"
    },
    {
     "data": {
      "image/png": "[encoded data removed]",
      "text/plain": [
       "<Figure size 432x288 with 1 Axes>"
      ]
     },
     "metadata": {
      "needs_background": "light"
     },
     "output_type": "display_data"
    }
   ],
   "source": [
    "bar_width = 0.4\n",
    "\n",
    "x = np.arange(len(ols['LEAGUE']))\n",
    "\n",
    "plt.bar(ols['LEAGUE'],ols['λ'],bar_width,label='OLS')\n",
    "plt.errorbar(ols['LEAGUE'], ols['λ'], yerr=ols['λ se']*2, fmt=\"none\", capsize=5, color=\"r\")\n",
    "plt.title('Figure 3a. Estimates of λ by League, 2010-2019 Seasons')\n",
    "plt.show()\n",
    "\n",
    "# Number of Obs: Referenced in the text (No chart)\n",
    "fig, ax = plt.subplots()\n",
    "bars = ax.bar(ols['LEAGUE'], ols['nobs'])\n",
    "plt.title('Figure 3a. Number of Obs by League, 2010-2019 Seasons')\n",
    "plt.show()\n",
    "\n",
    "# Adj Rsq: Referenced in the text text (No chart)\n",
    "fig, ax = plt.subplots()\n",
    "bars = ax.bar(ols['LEAGUE'], ols['adj. $R^2$'])\n",
    "ax.bar_label(bars,fmt='%.2f')\n",
    "plt.title('Figure 3a. James Model Adj Rsq by League, 2010-2019 Seasons')\n",
    "plt.show()"
   ]
  },
  {
   "cell_type": "code",
   "execution_count": 24,
   "metadata": {},
   "outputs": [
    {
     "data": {
      "image/png": "[encoded data removed]",
      "text/plain": [
       "<Figure size 432x288 with 1 Axes>"
      ]
     },
     "metadata": {
      "needs_background": "light"
     },
     "output_type": "display_data"
    }
   ],
   "source": [
    "# calculate mean league IRs group by league-season\n",
    "df_leagueM = df[['LEAGUE','YEAR_ID','PS','PA','wi']].groupby(['LEAGUE','YEAR_ID']).mean()\n",
    "df_leagueS = df[['LEAGUE','YEAR_ID','PS','PA','wi']].groupby(['LEAGUE','YEAR_ID']).std()\n",
    "df_leagueIR = df_leagueM['PS']/df_leagueS['PS']\n",
    "df_leagueIR = df_leagueIR.reset_index().rename(columns={'PS': 'IR'})\n",
    "\n",
    "# calc 10 year average for 2010-2019\n",
    "df_leagueIR10 = df_leagueIR.loc[(df_leagueIR['YEAR_ID']>=st_year_) & (df_leagueIR['YEAR_ID']<=end_year_)]\n",
    "df_leagueIR10 = df_leagueIR10[['LEAGUE','IR']].groupby(['LEAGUE']).mean()\n",
    "df_leagueIR10 = df_leagueIR10.reset_index().rename(columns={'IR': 'IR10'})\n",
    "df_leagueIR10 = df_leagueIR10.merge(ols, how='left', on=['LEAGUE'])\n",
    "\n",
    "plt.scatter(x=df_leagueIR10['IR10'], y=df_leagueIR10['λ'])\n",
    "\n",
    "# Fit a linear regression model\n",
    "model=sm.OLS(df_leagueIR10['λ'],sm.add_constant(df_leagueIR10['IR10'])).fit()    \n",
    "\n",
    "# Plot the regression line\n",
    "plt.plot(df_leagueIR10['IR10'], model.predict(), color='gray')\n",
    "\n",
    "# Add labels to the data points\n",
    "for i in range(len(df_leagueIR10)):\n",
    "    plt.text(df_leagueIR10['IR10'][i], df_leagueIR10['λ'][i], f\"{df_leagueIR10['LEAGUE'][i]}\")\n",
    "    \n",
    "plt.xlabel('League Information Ratio (Average of League Annual IRs 2010-2019)') \n",
    "plt.ylabel('Fitted λ')\n",
    "plt.xlim(0,9)\n",
    "plt.ylim(0,16)\n",
    "plt.title('Figure 3b. Estimates of λ vs. League Information Ratio, 2010-2019 Seasons')\n",
    "plt.show()"
   ]
  },
  {
   "cell_type": "code",
   "execution_count": null,
   "metadata": {},
   "outputs": [],
   "source": []
  }
 ],
 "metadata": {
  "kernelspec": {
   "display_name": "myenv",
   "language": "python",
   "name": "python3"
  },
  "language_info": {
   "codemirror_mode": {
    "name": "ipython",
    "version": 3
   },
   "file_extension": ".py",
   "mimetype": "text/x-python",
   "name": "python",
   "nbconvert_exporter": "python",
   "pygments_lexer": "ipython3",
   "version": "3.12.3"
  }
 },
 "nbformat": 4,
 "nbformat_minor": 4
}
